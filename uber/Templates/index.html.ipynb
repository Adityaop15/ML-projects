{
 "cells": [
  {
   "cell_type": "code",
   "execution_count": 1,
   "id": "da23d027",
   "metadata": {},
   "outputs": [
    {
     "ename": "SyntaxError",
     "evalue": "invalid syntax (Temp/ipykernel_22160/4154613369.py, line 1)",
     "output_type": "error",
     "traceback": [
      "\u001b[1;36m  File \u001b[1;32m\"C:\\Users\\DELL\\AppData\\Local\\Temp/ipykernel_22160/4154613369.py\"\u001b[1;36m, line \u001b[1;32m1\u001b[0m\n\u001b[1;33m    <!DOCTYPE html>\u001b[0m\n\u001b[1;37m    ^\u001b[0m\n\u001b[1;31mSyntaxError\u001b[0m\u001b[1;31m:\u001b[0m invalid syntax\n"
     ]
    }
   ],
   "source": [
    "<!DOCTYPE html>\n",
    "<html lang=\"en\" dir=\"ltr\">\n",
    "    <head>\n",
    "        <meta charset=\"utf-8\">\n",
    "        <title>Uber Rides Prediction Model</title>\n",
    "        <link href='https://fonts.googleapis.com/css?family=Pacifico' rel='stylesheet' type='text/css'>\n",
    "        <link href='https://fonts.googleapis.com/css?family=Arimo' rel='stylesheet' type='text/css'>\n",
    "        <link href='https://fonts.googleapis.com/css?family=Hind:300' rel='stylesheet' type='text/css'>\n",
    "        <link href='https://fonts.googleapis.com/css?family=Open+Sans+Condensed:300' rel='stylesheet' type='text/css'>\n",
    "        <link rel=\"stylesheet\" href=\"{{ url_for('static', filename='css/style.css') }}\">\n",
    "    </head>\n",
    "    <body>\n",
    "        <h1>Uber Weekly Rides Analysis</h1>\n",
    "        <form action=\"{{url_for('predict')}}\" method=\"post\">\n",
    "            <input type=\"text\" name=\"Priceperweek\" placeholder=\"Priceperweek\" required=\"required\">\n",
    "            <input type=\"text\" name=\"Population\" placeholder=\"Population\" required=\"required\">\n",
    "            <input type=\"text\" name=\"Monthlyincome\" placeholder=\"Monthlyincome\" required=\"required\">\n",
    "            <input type=\"text\" name=\"Averageparkingpermonth\" placeholder=\"Averageparkingpermonth\" required=\"required\">\n",
    "            <button type=\"submit\" class=\"btn btn-primary btn-block btn-large\">Predict</button>\n",
    "        </form>\n",
    "        <br>\n",
    "        <br>\n",
    "        {{ prediction_text }}\n",
    "    </body>\n",
    "</html>"
   ]
  },
  {
   "cell_type": "code",
   "execution_count": null,
   "id": "0cbc090f",
   "metadata": {},
   "outputs": [],
   "source": []
  }
 ],
 "metadata": {
  "kernelspec": {
   "display_name": "Python 3 (ipykernel)",
   "language": "python",
   "name": "python3"
  },
  "language_info": {
   "codemirror_mode": {
    "name": "ipython",
    "version": 3
   },
   "file_extension": ".py",
   "mimetype": "text/x-python",
   "name": "python",
   "nbconvert_exporter": "python",
   "pygments_lexer": "ipython3",
   "version": "3.9.7"
  }
 },
 "nbformat": 4,
 "nbformat_minor": 5
}
