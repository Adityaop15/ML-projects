{
 "cells": [
  {
   "cell_type": "code",
   "execution_count": null,
   "id": "05c1d682",
   "metadata": {},
   "outputs": [],
   "source": [
    "from flask import Flask,render_template,request,redirect\n",
    "from flask_cors import CORS,cross_origin\n",
    "import pickle\n",
    "import pandas as pd\n",
    "import numpy as np\n",
    "\n",
    "app=Flask(__name__)\n",
    "cors=CORS(app)\n",
    "model=pickle.load(open('LinearRegressionModel.pkl','rb'))\n",
    "car=pd.read_csv('Cleaned_Car_data.csv')\n",
    "\n",
    "@app.route('/',methods=['GET','POST'])\n",
    "def index():\n",
    "    companies=sorted(car['company'].unique())\n",
    "    car_models=sorted(car['name'].unique())\n",
    "    year=sorted(car['year'].unique(),reverse=True)\n",
    "    fuel_type=car['fuel_type'].unique()\n",
    "\n",
    "    companies.insert(0,'Select Company')\n",
    "    return render_template('index.html',companies=companies, car_models=car_models, years=year,fuel_types=fuel_type)\n",
    "\n",
    "\n",
    "@app.route('/predict',methods=['POST'])\n",
    "@cross_origin()\n",
    "def predict():\n",
    "\n",
    "    company=request.form.get('company')\n",
    "\n",
    "    car_model=request.form.get('car_models')\n",
    "    year=request.form.get('year')\n",
    "    fuel_type=request.form.get('fuel_type')\n",
    "    driven=request.form.get('kilo_driven')\n",
    "\n",
    "    prediction=model.predict(pd.DataFrame(columns=['name', 'company', 'year', 'kms_driven', 'fuel_type'],\n",
    "                              data=np.array([car_model,company,year,driven,fuel_type]).reshape(1, 5)))\n",
    "    print(prediction)\n",
    "\n",
    "    return str(np.round(prediction[0],2))\n",
    "\n",
    "\n",
    "\n",
    "if __name__=='__main__':\n",
    "    app.run()"
   ]
  }
 ],
 "metadata": {
  "kernelspec": {
   "display_name": "Python 3 (ipykernel)",
   "language": "python",
   "name": "python3"
  },
  "language_info": {
   "codemirror_mode": {
    "name": "ipython",
    "version": 3
   },
   "file_extension": ".py",
   "mimetype": "text/x-python",
   "name": "python",
   "nbconvert_exporter": "python",
   "pygments_lexer": "ipython3",
   "version": "3.9.7"
  }
 },
 "nbformat": 4,
 "nbformat_minor": 5
}
