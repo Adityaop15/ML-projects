{
 "cells": [
  {
   "cell_type": "code",
   "execution_count": 1,
   "id": "32086176",
   "metadata": {},
   "outputs": [
    {
     "name": "stderr",
     "output_type": "stream",
     "text": [
      "2022-07-22 22:16:14.436 INFO    numexpr.utils: NumExpr defaulting to 8 threads.\n",
      "2022-07-22 22:16:19.930 \n",
      "  \u001b[33m\u001b[1mWarning:\u001b[0m to view this Streamlit app on a browser, run it with the following\n",
      "  command:\n",
      "\n",
      "    streamlit run C:\\Users\\DELL\\Anaconda3\\lib\\site-packages\\ipykernel_launcher.py [ARGUMENTS]\n"
     ]
    }
   ],
   "source": [
    "import streamlit as st\n",
    "import pickle\n",
    "import pandas as pd\n",
    "\n",
    "teams = ['Sunrisers Hyderabad',\n",
    " 'Mumbai Indians',\n",
    " 'Royal Challengers Bangalore',\n",
    " 'Kolkata Knight Riders',\n",
    " 'Kings XI Punjab',\n",
    " 'Chennai Super Kings',\n",
    " 'Rajasthan Royals',\n",
    " 'Delhi Capitals']\n",
    "\n",
    "cities = ['Hyderabad', 'Bangalore', 'Mumbai', 'Indore', 'Kolkata', 'Delhi',\n",
    "       'Chandigarh', 'Jaipur', 'Chennai', 'Cape Town', 'Port Elizabeth',\n",
    "       'Durban', 'Centurion', 'East London', 'Johannesburg', 'Kimberley',\n",
    "       'Bloemfontein', 'Ahmedabad', 'Cuttack', 'Nagpur', 'Dharamsala',\n",
    "       'Visakhapatnam', 'Pune', 'Raipur', 'Ranchi', 'Abu Dhabi',\n",
    "       'Sharjah', 'Mohali', 'Bengaluru']\n",
    "\n",
    "pipe = pickle.load(open('pipe.pkl','rb'))\n",
    "st.title('IPL Win Predictor')\n",
    "\n",
    "col1, col2 = st.beta_columns(2)\n",
    "\n",
    "with col1:\n",
    "    batting_team = st.selectbox('Select the batting team',sorted(teams))\n",
    "with col2:\n",
    "    bowling_team = st.selectbox('Select the bowling team',sorted(teams))\n",
    "\n",
    "selected_city = st.selectbox('Select host city',sorted(cities))\n",
    "\n",
    "target = st.number_input('Target')\n",
    "\n",
    "col3,col4,col5 = st.beta_columns(3)\n",
    "\n",
    "with col3:\n",
    "    score = st.number_input('Score')\n",
    "with col4:\n",
    "    overs = st.number_input('Overs completed')\n",
    "with col5:\n",
    "    wickets = st.number_input('Wickets out')\n",
    "\n",
    "if st.button('Predict Probability'):\n",
    "    runs_left = target - score\n",
    "    balls_left = 120 - (overs*6)\n",
    "    wickets = 10 - wickets\n",
    "    crr = score/overs\n",
    "    rrr = (runs_left*6)/balls_left\n",
    "\n",
    "    input_df = pd.DataFrame({'batting_team':[batting_team],'bowling_team':[bowling_team],'city':[selected_city],'runs_left':[runs_left],'balls_left':[balls_left],'wickets':[wickets],'total_runs_x':[target],'crr':[crr],'rrr':[rrr]})\n",
    "\n",
    "    result = pipe.predict_proba(input_df)\n",
    "    loss = result[0][0]\n",
    "    win = result[0][1]\n",
    "    st.header(batting_team + \"- \" + str(round(win*100)) + \"%\")\n",
    "    st.header(bowling_team + \"- \" + str(round(loss*100)) + \"%\")"
   ]
  },
  {
   "cell_type": "code",
   "execution_count": null,
   "id": "63b09c3a",
   "metadata": {},
   "outputs": [],
   "source": []
  }
 ],
 "metadata": {
  "kernelspec": {
   "display_name": "Python 3 (ipykernel)",
   "language": "python",
   "name": "python3"
  },
  "language_info": {
   "codemirror_mode": {
    "name": "ipython",
    "version": 3
   },
   "file_extension": ".py",
   "mimetype": "text/x-python",
   "name": "python",
   "nbconvert_exporter": "python",
   "pygments_lexer": "ipython3",
   "version": "3.9.7"
  }
 },
 "nbformat": 4,
 "nbformat_minor": 5
}
